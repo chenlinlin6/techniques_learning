{
 "cells": [
  {
   "cell_type": "code",
   "execution_count": 15,
   "metadata": {
    "scrolled": true
   },
   "outputs": [],
   "source": [
    "import numpy as np\n",
    "import pandas as pd\n",
    "%matplotlib inline\n",
    "import seaborn as sns\n",
    "from sklearn.datasets import make_classification\n",
    "from xgboost import XGBClassifier\n",
    "from sklearn.preprocessing import MinMaxScaler\n",
    "from sklearn.metrics import *\n",
    "\n",
    "import warnings\n",
    "warnings.filterwarnings(\"ignore\")"
   ]
  },
  {
   "cell_type": "code",
   "execution_count": 125,
   "metadata": {},
   "outputs": [],
   "source": [
    "def evaluate_model(y_true, y_pred, y_prob):\n",
    "    assert len(y_true) == len(y_pred) == len(y_prob)\n",
    "    \n",
    "    acc = accuracy_score(y_true, y_pred)\n",
    "    recall = recall_score(y_true, y_pred)\n",
    "    precision = precision_score(y_true, y_pred)\n",
    "    f1 = f1_score(y_true, y_pred)\n",
    "\n",
    "    def compute_ks(y_true, y_prob):\n",
    "        fpr, tpr, thresholds = roc_curve(y_true, y_prob)\n",
    "        return np.max(tpr-fpr)\n",
    "  \n",
    "        \n",
    "    if all(y_prob):\n",
    "        auc = roc_auc_score(y_true, y_prob)\n",
    "        ks = compute_ks(y_true, y_prob)\n",
    "    \n",
    "    res_description = 'ACC:{:.3f}, Recall:{:.3f}, Precision:{:.3f}, F1:{:.3f}, AUC:{:.3f}, KS:{:.3f}'\n",
    "    print(res_description.format(acc, recall, precision, f1, auc, ks))"
   ]
  },
  {
   "cell_type": "code",
   "execution_count": 126,
   "metadata": {},
   "outputs": [
    {
     "name": "stdout",
     "output_type": "stream",
     "text": [
      "ACC:0.945, Recall:0.950, Precision:0.941, F1:0.945, AUC:0.985, KS:0.891\n"
     ]
    }
   ],
   "source": [
    "# ddd   \n",
    "evaluate_model(y, y_pred, y_prob)"
   ]
  },
  {
   "cell_type": "code",
   "execution_count": 28,
   "metadata": {},
   "outputs": [],
   "source": [
    "X, y = make_classification(n_samples=25000, n_features=15, n_informative=12, random_state=2019)\n",
    "X = MinMaxScaler().fit_transform(X)"
   ]
  },
  {
   "cell_type": "code",
   "execution_count": 66,
   "metadata": {},
   "outputs": [],
   "source": [
    "clf = XGBClassifier(random_state=2019)\n",
    "clf.fit(X, y)\n",
    "y_pred = clf.predict(X)\n",
    "y_prob = clf.predict_proba(X)[:, -1]\n",
    "scores = (1-y_prob)*1000"
   ]
  },
  {
   "cell_type": "code",
   "execution_count": 30,
   "metadata": {},
   "outputs": [
    {
     "data": {
      "text/plain": [
       "count    25000.000000\n",
       "mean       500.013916\n",
       "std        399.333282\n",
       "min          1.136422\n",
       "25%         74.196098\n",
       "50%        480.368225\n",
       "75%        932.698151\n",
       "max        999.175049\n",
       "dtype: float64"
      ]
     },
     "execution_count": 30,
     "metadata": {},
     "output_type": "execute_result"
    }
   ],
   "source": [
    "pd.Series(scores).describe()"
   ]
  },
  {
   "cell_type": "code",
   "execution_count": 31,
   "metadata": {},
   "outputs": [],
   "source": [
    "def get_bins(val):\n",
    "    if val<82:\n",
    "        return 'A'\n",
    "    elif 82 <= val < 470:\n",
    "        return 'B'\n",
    "    elif 470 <= val < 934:\n",
    "        return 'C'\n",
    "    else:\n",
    "        return 'D'"
   ]
  },
  {
   "cell_type": "code",
   "execution_count": 32,
   "metadata": {},
   "outputs": [],
   "source": [
    "bins = pd.Series(scores).map(get_bins)"
   ]
  },
  {
   "cell_type": "code",
   "execution_count": 128,
   "metadata": {},
   "outputs": [],
   "source": [
    "def get_weight_prob(a, b, c, d):\n",
    "    clf = XGBClassifier(random_state=2019)\n",
    "    map_dict =  {i:j for i,j in zip(list('ABCD'), [a, b, c, d])}\n",
    "    sample_weight = bins.map(map_dict)\n",
    "    clf.fit(X, y, sample_weight=sample_weight)\n",
    "    y_pred = clf.predict(X)\n",
    "    y_prob = clf.predict_proba(X)[:, -1]\n",
    "    return y_pred, y_prob"
   ]
  },
  {
   "cell_type": "code",
   "execution_count": 130,
   "metadata": {},
   "outputs": [],
   "source": [
    "def display_weights_res(a, b, c, d):\n",
    "    y_pred, y_prob = get_weight_prob(a, b, c, d)\n",
    "    scores = 1000 * (1-y_prob)\n",
    "    df_res = pd.DataFrame({'class':bins, 'scores':scores, 'y_mean':y}).groupby('class')['scores', 'y_mean'].mean()\n",
    "\n",
    "    evaluate_model(y, y_pred, y_prob)\n",
    "    return df_res"
   ]
  },
  {
   "cell_type": "code",
   "execution_count": 131,
   "metadata": {},
   "outputs": [
    {
     "name": "stdout",
     "output_type": "stream",
     "text": [
      "ACC:0.945, Recall:0.950, Precision:0.941, F1:0.945, AUC:0.985, KS:0.891\n"
     ]
    },
    {
     "data": {
      "text/html": [
       "<div>\n",
       "<style scoped>\n",
       "    .dataframe tbody tr th:only-of-type {\n",
       "        vertical-align: middle;\n",
       "    }\n",
       "\n",
       "    .dataframe tbody tr th {\n",
       "        vertical-align: top;\n",
       "    }\n",
       "\n",
       "    .dataframe thead th {\n",
       "        text-align: right;\n",
       "    }\n",
       "</style>\n",
       "<table border=\"1\" class=\"dataframe\">\n",
       "  <thead>\n",
       "    <tr style=\"text-align: right;\">\n",
       "      <th></th>\n",
       "      <th>scores</th>\n",
       "      <th>y_mean</th>\n",
       "    </tr>\n",
       "    <tr>\n",
       "      <th>class</th>\n",
       "      <th></th>\n",
       "      <th></th>\n",
       "    </tr>\n",
       "  </thead>\n",
       "  <tbody>\n",
       "    <tr>\n",
       "      <th>A</th>\n",
       "      <td>37.840183</td>\n",
       "      <td>0.992234</td>\n",
       "    </tr>\n",
       "    <tr>\n",
       "      <th>B</th>\n",
       "      <td>211.441788</td>\n",
       "      <td>0.895416</td>\n",
       "    </tr>\n",
       "    <tr>\n",
       "      <th>C</th>\n",
       "      <td>788.337341</td>\n",
       "      <td>0.107439</td>\n",
       "    </tr>\n",
       "    <tr>\n",
       "      <th>D</th>\n",
       "      <td>970.631348</td>\n",
       "      <td>0.005176</td>\n",
       "    </tr>\n",
       "  </tbody>\n",
       "</table>\n",
       "</div>"
      ],
      "text/plain": [
       "           scores    y_mean\n",
       "class                      \n",
       "A       37.840183  0.992234\n",
       "B      211.441788  0.895416\n",
       "C      788.337341  0.107439\n",
       "D      970.631348  0.005176"
      ]
     },
     "execution_count": 131,
     "metadata": {},
     "output_type": "execute_result"
    }
   ],
   "source": [
    "display_weights_res(1, 1, 1, 1)"
   ]
  },
  {
   "cell_type": "markdown",
   "metadata": {},
   "source": [
    "#### max(d-a)"
   ]
  },
  {
   "cell_type": "code",
   "execution_count": 49,
   "metadata": {},
   "outputs": [],
   "source": [
    "def opt_func(a, b, c, d):\n",
    "    y_prob = get_weight_prob(a, b, c, d)\n",
    "    scores = (1-y_prob)*1000\n",
    "    score_a = np.extract(bins=='A', scores).mean()\n",
    "    score_d = np.extract(bins=='D', scores).mean()\n",
    "    return score_d - score_a"
   ]
  },
  {
   "cell_type": "code",
   "execution_count": 50,
   "metadata": {},
   "outputs": [
    {
     "data": {
      "text/plain": [
       "932.79114"
      ]
     },
     "execution_count": 50,
     "metadata": {},
     "output_type": "execute_result"
    }
   ],
   "source": [
    "opt_func(1, 1, 1, 1)"
   ]
  },
  {
   "cell_type": "code",
   "execution_count": 51,
   "metadata": {},
   "outputs": [],
   "source": [
    "from bayes_opt import BayesianOptimization"
   ]
  },
  {
   "cell_type": "code",
   "execution_count": 58,
   "metadata": {},
   "outputs": [],
   "source": [
    "param_bound = {\"a\":(0, 100), 'b':(0, 20), \n",
    "              \"c\":(0, 20), \"d\":(0, 50)}\n",
    "\n",
    "optimizer = BayesianOptimization(f=opt_func, pbounds=param_bound, random_state=2019, verbose=2)"
   ]
  },
  {
   "cell_type": "code",
   "execution_count": 59,
   "metadata": {
    "scrolled": false
   },
   "outputs": [
    {
     "name": "stdout",
     "output_type": "stream",
     "text": [
      "|   iter    |  target   |     a     |     b     |     c     |     d     |\n",
      "-------------------------------------------------------------------------\n",
      "| \u001b[0m 1       \u001b[0m | \u001b[0m 962.5   \u001b[0m | \u001b[0m 90.35   \u001b[0m | \u001b[0m 7.862   \u001b[0m | \u001b[0m 12.48   \u001b[0m | \u001b[0m 31.89   \u001b[0m |\n",
      "| \u001b[95m 2       \u001b[0m | \u001b[95m 964.3   \u001b[0m | \u001b[95m 88.05   \u001b[0m | \u001b[95m 5.983   \u001b[0m | \u001b[95m 14.04   \u001b[0m | \u001b[95m 45.16   \u001b[0m |\n",
      "| \u001b[0m 3       \u001b[0m | \u001b[0m 956.2   \u001b[0m | \u001b[0m 88.14   \u001b[0m | \u001b[0m 8.115   \u001b[0m | \u001b[0m 9.049   \u001b[0m | \u001b[0m 13.35   \u001b[0m |\n",
      "| \u001b[0m 4       \u001b[0m | \u001b[0m 954.2   \u001b[0m | \u001b[0m 16.29   \u001b[0m | \u001b[0m 17.78   \u001b[0m | \u001b[0m 2.97    \u001b[0m | \u001b[0m 49.24   \u001b[0m |\n",
      "| \u001b[0m 5       \u001b[0m | \u001b[0m 942.1   \u001b[0m | \u001b[0m 3.236   \u001b[0m | \u001b[0m 10.31   \u001b[0m | \u001b[0m 4.023   \u001b[0m | \u001b[0m 44.3    \u001b[0m |\n",
      "| \u001b[0m 6       \u001b[0m | \u001b[0m 963.7   \u001b[0m | \u001b[0m 88.83   \u001b[0m | \u001b[0m 6.619   \u001b[0m | \u001b[0m 13.52   \u001b[0m | \u001b[0m 40.7    \u001b[0m |\n",
      "| \u001b[0m 7       \u001b[0m | \u001b[0m 963.6   \u001b[0m | \u001b[0m 90.68   \u001b[0m | \u001b[0m 7.148   \u001b[0m | \u001b[0m 14.63   \u001b[0m | \u001b[0m 45.1    \u001b[0m |\n",
      "| \u001b[95m 8       \u001b[0m | \u001b[95m 965.6   \u001b[0m | \u001b[95m 87.65   \u001b[0m | \u001b[95m 2.587   \u001b[0m | \u001b[95m 14.09   \u001b[0m | \u001b[95m 44.22   \u001b[0m |\n",
      "| \u001b[0m 9       \u001b[0m | \u001b[0m 965.1   \u001b[0m | \u001b[0m 87.16   \u001b[0m | \u001b[0m 0.0     \u001b[0m | \u001b[0m 16.44   \u001b[0m | \u001b[0m 43.75   \u001b[0m |\n",
      "| \u001b[95m 10      \u001b[0m | \u001b[95m 969.4   \u001b[0m | \u001b[95m 88.16   \u001b[0m | \u001b[95m 0.0     \u001b[0m | \u001b[95m 11.33   \u001b[0m | \u001b[95m 44.58   \u001b[0m |\n",
      "| \u001b[95m 11      \u001b[0m | \u001b[95m 971.7   \u001b[0m | \u001b[95m 88.61   \u001b[0m | \u001b[95m 0.0     \u001b[0m | \u001b[95m 8.59    \u001b[0m | \u001b[95m 45.05   \u001b[0m |\n",
      "| \u001b[95m 12      \u001b[0m | \u001b[95m 973.0   \u001b[0m | \u001b[95m 88.7    \u001b[0m | \u001b[95m 0.0     \u001b[0m | \u001b[95m 5.842   \u001b[0m | \u001b[95m 45.7    \u001b[0m |\n",
      "| \u001b[95m 13      \u001b[0m | \u001b[95m 973.9   \u001b[0m | \u001b[95m 90.11   \u001b[0m | \u001b[95m 0.0     \u001b[0m | \u001b[95m 4.925   \u001b[0m | \u001b[95m 46.9    \u001b[0m |\n",
      "| \u001b[0m 14      \u001b[0m | \u001b[0m 973.7   \u001b[0m | \u001b[0m 91.13   \u001b[0m | \u001b[0m 0.0     \u001b[0m | \u001b[0m 4.776   \u001b[0m | \u001b[0m 49.23   \u001b[0m |\n",
      "| \u001b[95m 15      \u001b[0m | \u001b[95m 974.6   \u001b[0m | \u001b[95m 92.66   \u001b[0m | \u001b[95m 0.0     \u001b[0m | \u001b[95m 4.03    \u001b[0m | \u001b[95m 46.68   \u001b[0m |\n",
      "| \u001b[95m 16      \u001b[0m | \u001b[95m 975.1   \u001b[0m | \u001b[95m 92.99   \u001b[0m | \u001b[95m 0.0     \u001b[0m | \u001b[95m 2.137   \u001b[0m | \u001b[95m 46.5    \u001b[0m |\n",
      "| \u001b[95m 17      \u001b[0m | \u001b[95m 975.6   \u001b[0m | \u001b[95m 93.99   \u001b[0m | \u001b[95m 0.0     \u001b[0m | \u001b[95m 0.0     \u001b[0m | \u001b[95m 46.51   \u001b[0m |\n",
      "| \u001b[0m 18      \u001b[0m | \u001b[0m 975.3   \u001b[0m | \u001b[0m 95.94   \u001b[0m | \u001b[0m 0.0     \u001b[0m | \u001b[0m 0.0     \u001b[0m | \u001b[0m 45.62   \u001b[0m |\n",
      "| \u001b[0m 19      \u001b[0m | \u001b[0m 975.2   \u001b[0m | \u001b[0m 94.81   \u001b[0m | \u001b[0m 0.0     \u001b[0m | \u001b[0m 0.0     \u001b[0m | \u001b[0m 47.93   \u001b[0m |\n",
      "| \u001b[0m 20      \u001b[0m | \u001b[0m 975.4   \u001b[0m | \u001b[0m 93.37   \u001b[0m | \u001b[0m 0.0     \u001b[0m | \u001b[0m 0.0     \u001b[0m | \u001b[0m 45.08   \u001b[0m |\n",
      "| \u001b[0m 21      \u001b[0m | \u001b[0m 974.7   \u001b[0m | \u001b[0m 93.94   \u001b[0m | \u001b[0m 1.143   \u001b[0m | \u001b[0m 0.0     \u001b[0m | \u001b[0m 46.3    \u001b[0m |\n",
      "| \u001b[95m 22      \u001b[0m | \u001b[95m 976.1   \u001b[0m | \u001b[95m 93.24   \u001b[0m | \u001b[95m 0.0     \u001b[0m | \u001b[95m 0.0     \u001b[0m | \u001b[95m 46.59   \u001b[0m |\n",
      "| \u001b[0m 23      \u001b[0m | \u001b[0m 975.9   \u001b[0m | \u001b[0m 90.48   \u001b[0m | \u001b[0m 0.0     \u001b[0m | \u001b[0m 0.0     \u001b[0m | \u001b[0m 47.75   \u001b[0m |\n",
      "| \u001b[0m 24      \u001b[0m | \u001b[0m 975.9   \u001b[0m | \u001b[0m 91.69   \u001b[0m | \u001b[0m 0.0     \u001b[0m | \u001b[0m 0.0     \u001b[0m | \u001b[0m 46.7    \u001b[0m |\n",
      "| \u001b[0m 25      \u001b[0m | \u001b[0m 975.8   \u001b[0m | \u001b[0m 92.03   \u001b[0m | \u001b[0m 0.0     \u001b[0m | \u001b[0m 0.0     \u001b[0m | \u001b[0m 49.01   \u001b[0m |\n",
      "| \u001b[95m 26      \u001b[0m | \u001b[95m 976.3   \u001b[0m | \u001b[95m 92.53   \u001b[0m | \u001b[95m 0.0     \u001b[0m | \u001b[95m 0.0     \u001b[0m | \u001b[95m 47.6    \u001b[0m |\n",
      "| \u001b[0m 27      \u001b[0m | \u001b[0m 975.7   \u001b[0m | \u001b[0m 92.3    \u001b[0m | \u001b[0m 0.0     \u001b[0m | \u001b[0m 0.457   \u001b[0m | \u001b[0m 47.69   \u001b[0m |\n",
      "| \u001b[95m 28      \u001b[0m | \u001b[95m 976.5   \u001b[0m | \u001b[95m 93.0    \u001b[0m | \u001b[95m 0.0     \u001b[0m | \u001b[95m 0.0     \u001b[0m | \u001b[95m 47.7    \u001b[0m |\n",
      "| \u001b[0m 29      \u001b[0m | \u001b[0m 976.3   \u001b[0m | \u001b[0m 93.18   \u001b[0m | \u001b[0m 0.0     \u001b[0m | \u001b[0m 0.0     \u001b[0m | \u001b[0m 48.21   \u001b[0m |\n",
      "| \u001b[0m 30      \u001b[0m | \u001b[0m 975.9   \u001b[0m | \u001b[0m 93.17   \u001b[0m | \u001b[0m 0.0     \u001b[0m | \u001b[0m 0.0     \u001b[0m | \u001b[0m 47.54   \u001b[0m |\n",
      "| \u001b[0m 31      \u001b[0m | \u001b[0m 976.0   \u001b[0m | \u001b[0m 92.84   \u001b[0m | \u001b[0m 0.0     \u001b[0m | \u001b[0m 0.5274  \u001b[0m | \u001b[0m 45.93   \u001b[0m |\n",
      "| \u001b[0m 32      \u001b[0m | \u001b[0m 974.6   \u001b[0m | \u001b[0m 91.81   \u001b[0m | \u001b[0m 0.0     \u001b[0m | \u001b[0m 2.887   \u001b[0m | \u001b[0m 47.1    \u001b[0m |\n",
      "| \u001b[0m 33      \u001b[0m | \u001b[0m 975.9   \u001b[0m | \u001b[0m 92.71   \u001b[0m | \u001b[0m 0.0     \u001b[0m | \u001b[0m 0.0     \u001b[0m | \u001b[0m 46.0    \u001b[0m |\n",
      "| \u001b[0m 34      \u001b[0m | \u001b[0m 975.9   \u001b[0m | \u001b[0m 94.01   \u001b[0m | \u001b[0m 0.0     \u001b[0m | \u001b[0m 0.737   \u001b[0m | \u001b[0m 45.74   \u001b[0m |\n",
      "| \u001b[0m 35      \u001b[0m | \u001b[0m 975.8   \u001b[0m | \u001b[0m 92.68   \u001b[0m | \u001b[0m 0.4589  \u001b[0m | \u001b[0m 0.0     \u001b[0m | \u001b[0m 48.12   \u001b[0m |\n",
      "=========================================================================\n"
     ]
    }
   ],
   "source": [
    "num_iter = 30\n",
    "init_points = 5\n",
    "optimizer.maximize(init_points=init_points, n_iter=num_iter)"
   ]
  },
  {
   "cell_type": "code",
   "execution_count": 60,
   "metadata": {},
   "outputs": [
    {
     "data": {
      "text/plain": [
       "{'target': 976.4725341796875,\n",
       " 'params': {'a': 92.99773468238647,\n",
       "  'b': 0.0,\n",
       "  'c': 0.0,\n",
       "  'd': 47.69674462738514}}"
      ]
     },
     "execution_count": 60,
     "metadata": {},
     "output_type": "execute_result"
    }
   ],
   "source": [
    "optimizer.max"
   ]
  },
  {
   "cell_type": "code",
   "execution_count": 133,
   "metadata": {
    "scrolled": true
   },
   "outputs": [
    {
     "name": "stdout",
     "output_type": "stream",
     "text": [
      "ACC:0.945, Recall:0.950, Precision:0.941, F1:0.945, AUC:0.985, KS:0.891\n"
     ]
    },
    {
     "data": {
      "text/html": [
       "<div>\n",
       "<style scoped>\n",
       "    .dataframe tbody tr th:only-of-type {\n",
       "        vertical-align: middle;\n",
       "    }\n",
       "\n",
       "    .dataframe tbody tr th {\n",
       "        vertical-align: top;\n",
       "    }\n",
       "\n",
       "    .dataframe thead th {\n",
       "        text-align: right;\n",
       "    }\n",
       "</style>\n",
       "<table border=\"1\" class=\"dataframe\">\n",
       "  <thead>\n",
       "    <tr style=\"text-align: right;\">\n",
       "      <th></th>\n",
       "      <th>scores</th>\n",
       "      <th>y_mean</th>\n",
       "    </tr>\n",
       "    <tr>\n",
       "      <th>class</th>\n",
       "      <th></th>\n",
       "      <th></th>\n",
       "    </tr>\n",
       "  </thead>\n",
       "  <tbody>\n",
       "    <tr>\n",
       "      <th>A</th>\n",
       "      <td>37.840183</td>\n",
       "      <td>0.992234</td>\n",
       "    </tr>\n",
       "    <tr>\n",
       "      <th>B</th>\n",
       "      <td>211.441788</td>\n",
       "      <td>0.895416</td>\n",
       "    </tr>\n",
       "    <tr>\n",
       "      <th>C</th>\n",
       "      <td>788.337341</td>\n",
       "      <td>0.107439</td>\n",
       "    </tr>\n",
       "    <tr>\n",
       "      <th>D</th>\n",
       "      <td>970.631348</td>\n",
       "      <td>0.005176</td>\n",
       "    </tr>\n",
       "  </tbody>\n",
       "</table>\n",
       "</div>"
      ],
      "text/plain": [
       "           scores    y_mean\n",
       "class                      \n",
       "A       37.840183  0.992234\n",
       "B      211.441788  0.895416\n",
       "C      788.337341  0.107439\n",
       "D      970.631348  0.005176"
      ]
     },
     "execution_count": 133,
     "metadata": {},
     "output_type": "execute_result"
    }
   ],
   "source": [
    "display_weights_res(1, 1, 1, 1)"
   ]
  },
  {
   "cell_type": "code",
   "execution_count": 140,
   "metadata": {},
   "outputs": [
    {
     "name": "stdout",
     "output_type": "stream",
     "text": [
      "ACC:0.886, Recall:0.921, Precision:0.860, F1:0.890, AUC:0.962, KS:0.782\n"
     ]
    },
    {
     "data": {
      "text/html": [
       "<div>\n",
       "<style scoped>\n",
       "    .dataframe tbody tr th:only-of-type {\n",
       "        vertical-align: middle;\n",
       "    }\n",
       "\n",
       "    .dataframe tbody tr th {\n",
       "        vertical-align: top;\n",
       "    }\n",
       "\n",
       "    .dataframe thead th {\n",
       "        text-align: right;\n",
       "    }\n",
       "</style>\n",
       "<table border=\"1\" class=\"dataframe\">\n",
       "  <thead>\n",
       "    <tr style=\"text-align: right;\">\n",
       "      <th></th>\n",
       "      <th>scores</th>\n",
       "      <th>y_mean</th>\n",
       "    </tr>\n",
       "    <tr>\n",
       "      <th>class</th>\n",
       "      <th></th>\n",
       "      <th></th>\n",
       "    </tr>\n",
       "  </thead>\n",
       "  <tbody>\n",
       "    <tr>\n",
       "      <th>A</th>\n",
       "      <td>11.218301</td>\n",
       "      <td>0.992234</td>\n",
       "    </tr>\n",
       "    <tr>\n",
       "      <th>B</th>\n",
       "      <td>141.664795</td>\n",
       "      <td>0.895416</td>\n",
       "    </tr>\n",
       "    <tr>\n",
       "      <th>C</th>\n",
       "      <td>730.933167</td>\n",
       "      <td>0.107439</td>\n",
       "    </tr>\n",
       "    <tr>\n",
       "      <th>D</th>\n",
       "      <td>987.690918</td>\n",
       "      <td>0.005176</td>\n",
       "    </tr>\n",
       "  </tbody>\n",
       "</table>\n",
       "</div>"
      ],
      "text/plain": [
       "           scores    y_mean\n",
       "class                      \n",
       "A       11.218301  0.992234\n",
       "B      141.664795  0.895416\n",
       "C      730.933167  0.107439\n",
       "D      987.690918  0.005176"
      ]
     },
     "execution_count": 140,
     "metadata": {},
     "output_type": "execute_result"
    }
   ],
   "source": [
    "display_weights_res(**optimizer.max['params'])"
   ]
  }
 ],
 "metadata": {
  "kernelspec": {
   "display_name": "Python 3",
   "language": "python",
   "name": "python3"
  },
  "language_info": {
   "codemirror_mode": {
    "name": "ipython",
    "version": 3
   },
   "file_extension": ".py",
   "mimetype": "text/x-python",
   "name": "python",
   "nbconvert_exporter": "python",
   "pygments_lexer": "ipython3",
   "version": "3.7.4"
  }
 },
 "nbformat": 4,
 "nbformat_minor": 2
}
